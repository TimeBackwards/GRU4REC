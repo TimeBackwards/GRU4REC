{
 "cells": [
  {
   "cell_type": "code",
   "execution_count": 1,
   "id": "b6f2b4a3",
   "metadata": {},
   "outputs": [
    {
     "name": "stdout",
     "output_type": "stream",
     "text": [
      "/Recommendation/GRU4REC\r\n"
     ]
    }
   ],
   "source": [
    "!pwd"
   ]
  },
  {
   "cell_type": "code",
   "execution_count": 3,
   "id": "e16d4082",
   "metadata": {},
   "outputs": [],
   "source": [
    "import numpy as np\n",
    "import pandas as pd\n",
    "import datetime\n",
    "import os"
   ]
  },
  {
   "cell_type": "code",
   "execution_count": 4,
   "id": "16b4e17c",
   "metadata": {},
   "outputs": [],
   "source": [
    "dataBefore = '../YooChoose/yoochoose-clicks.dat'\n",
    "dataTestBefore = '../YooChoose/yoochoose-test.dat'\n",
    "dataAfter = '../YooChoose/'\n",
    "dayTime = 86400"
   ]
  },
  {
   "cell_type": "code",
   "execution_count": 7,
   "id": "12abe6b7",
   "metadata": {},
   "outputs": [],
   "source": [
    "def removeShortSessions(data):\n",
    "    # delete sessions of length < 1\n",
    "    sessionLen = data.groupby('SessionID').size()\n",
    "    data = data[np.in1d(data.SessionID, sessionLen[sessionLen >1].index)]\n",
    "    return data"
   ]
  },
  {
   "cell_type": "code",
   "execution_count": 8,
   "id": "b2aeb566",
   "metadata": {},
   "outputs": [],
   "source": [
    "# Read Dataset in pandas Dataframe (Ignore Category Column)\n",
    "train = pd.read_csv(dataBefore, sep=',', header = None, usecols = [0, 1, 2], dtype = {0:np.int32, 1:str, 2:np.int64})\n",
    "test = pd.read_csv(dataTestBefore, sep=',', header = None, usecols = [0, 1, 2], dtype = {0:np.int32, 1:str, 2:np.int64})\n",
    "train.columns = ['SessionID', 'Time', 'ItemID']\n",
    "test.columns = ['SessionID', 'Time', 'ItemID']\n",
    "train['Time'] = train.Time.apply(lambda x: datetime.datetime.strptime(x, '%Y-%m-%dT%H:%M:%S.%fZ').timestamp())\n",
    "test['Time'] = test.Time.apply(lambda x: datetime.datetime.strptime(x, '%Y-%m-%dT%H:%M:%S.%fz').timestamp())"
   ]
  },
  {
   "cell_type": "code",
   "execution_count": 10,
   "id": "f11e02d0",
   "metadata": {},
   "outputs": [],
   "source": [
    "train = removeShortSessions(train)\n",
    "itemLen = train.groupby('ItemID').size()\n",
    "train = train[np.in1d(train.ItemID, itemLen[itemLen > 4].index)]\n",
    "train = removeShortSessions(train)"
   ]
  },
  {
   "cell_type": "code",
   "execution_count": 15,
   "id": "a92ecec0",
   "metadata": {},
   "outputs": [
    {
     "name": "stdout",
     "output_type": "stream",
     "text": [
      "Testing Set has 7924883 Events,  1994942 Sessions, and 37301 Items\n",
      "\n",
      "\n"
     ]
    }
   ],
   "source": [
    "test = test[np.in1d(test.ItemID, train.ItemID)]\n",
    "test = removeShortSessions(test)\n",
    "\n",
    "print('Testing Set has', len(test), 'Events, ', test.SessionID.nunique(), 'Sessions, and', train.ItemID.nunique(), 'Items\\n\\n')\n",
    "test.to_csv(dataAfter +'recSys15Test.txt', sep=',', index=False)"
   ]
  },
  {
   "cell_type": "code",
   "execution_count": 20,
   "id": "8a54e43b",
   "metadata": {},
   "outputs": [
    {
     "name": "stdout",
     "output_type": "stream",
     "text": [
      "Training Set has 31636405 Events,  7966041 Sessions, and 37298 Items\n",
      "\n",
      "\n",
      "Validation Set has 71219 Events,  15323 Sessions, and 6749 Items\n",
      "\n",
      "\n"
     ]
    }
   ],
   "source": [
    "timeMax = train.Time.max()\n",
    "sessionMaxTime = train.groupby('SessionID').Time.max()\n",
    "sessionTrain = sessionMaxTime[sessionMaxTime < (timeMax - dayTime)].index\n",
    "sessionValid = sessionMaxTime[sessionMaxTime >= (timeMax -dayTime)].index\n",
    "trainTR = train[np.in1d(train.SessionID, sessionTrain)]\n",
    "trainVD = train[np.in1d(train.SessionID, sessionValid)]\n",
    "trainVD = trainVD[np.in1d(trainVD.ItemID, trainTR.ItemID)]\n",
    "trainVD = removeShortSessions(trainVD)\n",
    "\n",
    "print('Training Set has', len(trainTR), 'Events, ', trainTR.SessionID.nunique(), 'Sessions, and', trainTR.ItemID.nunique(), 'Items\\n\\n')\n",
    "trainTR.to_csv(dataAfter + 'recSys15TrainOnly.txt', sep = ',', index = False)\n",
    "print('Validation Set has', len(trainVD), 'Events, ', trainVD.SessionID.nunique(), 'Sessions, and' , trainVD.ItemID.nunique(), 'Items\\n\\n')\n",
    "trainVD.to_csv(dataAfter + 'recSys15Valid.txt', sep = ',', index = False)"
   ]
  },
  {
   "cell_type": "code",
   "execution_count": 32,
   "id": "6bc93014",
   "metadata": {},
   "outputs": [
    {
     "data": {
      "text/html": [
       "<div>\n",
       "<style scoped>\n",
       "    .dataframe tbody tr th:only-of-type {\n",
       "        vertical-align: middle;\n",
       "    }\n",
       "\n",
       "    .dataframe tbody tr th {\n",
       "        vertical-align: top;\n",
       "    }\n",
       "\n",
       "    .dataframe thead th {\n",
       "        text-align: right;\n",
       "    }\n",
       "</style>\n",
       "<table border=\"1\" class=\"dataframe\">\n",
       "  <thead>\n",
       "    <tr style=\"text-align: right;\">\n",
       "      <th></th>\n",
       "      <th>SessionID</th>\n",
       "      <th>Time</th>\n",
       "      <th>ItemID</th>\n",
       "    </tr>\n",
       "  </thead>\n",
       "  <tbody>\n",
       "    <tr>\n",
       "      <th>32186847</th>\n",
       "      <td>11265009</td>\n",
       "      <td>1.412004e+09</td>\n",
       "      <td>214586805</td>\n",
       "    </tr>\n",
       "    <tr>\n",
       "      <th>32186848</th>\n",
       "      <td>11265009</td>\n",
       "      <td>1.412004e+09</td>\n",
       "      <td>214509260</td>\n",
       "    </tr>\n",
       "    <tr>\n",
       "      <th>32186868</th>\n",
       "      <td>11265017</td>\n",
       "      <td>1.412018e+09</td>\n",
       "      <td>214857547</td>\n",
       "    </tr>\n",
       "    <tr>\n",
       "      <th>32186869</th>\n",
       "      <td>11265017</td>\n",
       "      <td>1.412018e+09</td>\n",
       "      <td>214857268</td>\n",
       "    </tr>\n",
       "    <tr>\n",
       "      <th>32186870</th>\n",
       "      <td>11265017</td>\n",
       "      <td>1.412018e+09</td>\n",
       "      <td>214857260</td>\n",
       "    </tr>\n",
       "    <tr>\n",
       "      <th>...</th>\n",
       "      <td>...</td>\n",
       "      <td>...</td>\n",
       "      <td>...</td>\n",
       "    </tr>\n",
       "    <tr>\n",
       "      <th>33003915</th>\n",
       "      <td>11299816</td>\n",
       "      <td>1.412021e+09</td>\n",
       "      <td>214859859</td>\n",
       "    </tr>\n",
       "    <tr>\n",
       "      <th>33003916</th>\n",
       "      <td>11299816</td>\n",
       "      <td>1.412021e+09</td>\n",
       "      <td>214859859</td>\n",
       "    </tr>\n",
       "    <tr>\n",
       "      <th>33003917</th>\n",
       "      <td>11299816</td>\n",
       "      <td>1.412022e+09</td>\n",
       "      <td>214859859</td>\n",
       "    </tr>\n",
       "    <tr>\n",
       "      <th>33003918</th>\n",
       "      <td>11299816</td>\n",
       "      <td>1.412023e+09</td>\n",
       "      <td>214746399</td>\n",
       "    </tr>\n",
       "    <tr>\n",
       "      <th>33003919</th>\n",
       "      <td>11299816</td>\n",
       "      <td>1.412023e+09</td>\n",
       "      <td>214567327</td>\n",
       "    </tr>\n",
       "  </tbody>\n",
       "</table>\n",
       "<p>71219 rows × 3 columns</p>\n",
       "</div>"
      ],
      "text/plain": [
       "          SessionID          Time     ItemID\n",
       "32186847   11265009  1.412004e+09  214586805\n",
       "32186848   11265009  1.412004e+09  214509260\n",
       "32186868   11265017  1.412018e+09  214857547\n",
       "32186869   11265017  1.412018e+09  214857268\n",
       "32186870   11265017  1.412018e+09  214857260\n",
       "...             ...           ...        ...\n",
       "33003915   11299816  1.412021e+09  214859859\n",
       "33003916   11299816  1.412021e+09  214859859\n",
       "33003917   11299816  1.412022e+09  214859859\n",
       "33003918   11299816  1.412023e+09  214746399\n",
       "33003919   11299816  1.412023e+09  214567327\n",
       "\n",
       "[71219 rows x 3 columns]"
      ]
     },
     "execution_count": 32,
     "metadata": {},
     "output_type": "execute_result"
    }
   ],
   "source": [
    "trainVD"
   ]
  },
  {
   "cell_type": "code",
   "execution_count": 34,
   "id": "c786a16e",
   "metadata": {},
   "outputs": [
    {
     "data": {
      "text/html": [
       "<div>\n",
       "<style scoped>\n",
       "    .dataframe tbody tr th:only-of-type {\n",
       "        vertical-align: middle;\n",
       "    }\n",
       "\n",
       "    .dataframe tbody tr th {\n",
       "        vertical-align: top;\n",
       "    }\n",
       "\n",
       "    .dataframe thead th {\n",
       "        text-align: right;\n",
       "    }\n",
       "</style>\n",
       "<table border=\"1\" class=\"dataframe\">\n",
       "  <thead>\n",
       "    <tr style=\"text-align: right;\">\n",
       "      <th></th>\n",
       "      <th>SessionID</th>\n",
       "      <th>Time</th>\n",
       "      <th>ItemID</th>\n",
       "    </tr>\n",
       "  </thead>\n",
       "  <tbody>\n",
       "    <tr>\n",
       "      <th>0</th>\n",
       "      <td>1</td>\n",
       "      <td>1.396868e+09</td>\n",
       "      <td>214536502</td>\n",
       "    </tr>\n",
       "    <tr>\n",
       "      <th>1</th>\n",
       "      <td>1</td>\n",
       "      <td>1.396868e+09</td>\n",
       "      <td>214536500</td>\n",
       "    </tr>\n",
       "    <tr>\n",
       "      <th>2</th>\n",
       "      <td>1</td>\n",
       "      <td>1.396868e+09</td>\n",
       "      <td>214536506</td>\n",
       "    </tr>\n",
       "    <tr>\n",
       "      <th>3</th>\n",
       "      <td>1</td>\n",
       "      <td>1.396868e+09</td>\n",
       "      <td>214577561</td>\n",
       "    </tr>\n",
       "    <tr>\n",
       "      <th>4</th>\n",
       "      <td>2</td>\n",
       "      <td>1.396879e+09</td>\n",
       "      <td>214662742</td>\n",
       "    </tr>\n",
       "    <tr>\n",
       "      <th>...</th>\n",
       "      <td>...</td>\n",
       "      <td>...</td>\n",
       "      <td>...</td>\n",
       "    </tr>\n",
       "    <tr>\n",
       "      <th>33003939</th>\n",
       "      <td>11299809</td>\n",
       "      <td>1.411638e+09</td>\n",
       "      <td>214819412</td>\n",
       "    </tr>\n",
       "    <tr>\n",
       "      <th>33003940</th>\n",
       "      <td>11299809</td>\n",
       "      <td>1.411638e+09</td>\n",
       "      <td>214830939</td>\n",
       "    </tr>\n",
       "    <tr>\n",
       "      <th>33003941</th>\n",
       "      <td>11299811</td>\n",
       "      <td>1.411585e+09</td>\n",
       "      <td>214854855</td>\n",
       "    </tr>\n",
       "    <tr>\n",
       "      <th>33003942</th>\n",
       "      <td>11299811</td>\n",
       "      <td>1.411585e+09</td>\n",
       "      <td>214854838</td>\n",
       "    </tr>\n",
       "    <tr>\n",
       "      <th>33003943</th>\n",
       "      <td>11299811</td>\n",
       "      <td>1.411585e+09</td>\n",
       "      <td>214848658</td>\n",
       "    </tr>\n",
       "  </tbody>\n",
       "</table>\n",
       "<p>31636405 rows × 3 columns</p>\n",
       "</div>"
      ],
      "text/plain": [
       "          SessionID          Time     ItemID\n",
       "0                 1  1.396868e+09  214536502\n",
       "1                 1  1.396868e+09  214536500\n",
       "2                 1  1.396868e+09  214536506\n",
       "3                 1  1.396868e+09  214577561\n",
       "4                 2  1.396879e+09  214662742\n",
       "...             ...           ...        ...\n",
       "33003939   11299809  1.411638e+09  214819412\n",
       "33003940   11299809  1.411638e+09  214830939\n",
       "33003941   11299811  1.411585e+09  214854855\n",
       "33003942   11299811  1.411585e+09  214854838\n",
       "33003943   11299811  1.411585e+09  214848658\n",
       "\n",
       "[31636405 rows x 3 columns]"
      ]
     },
     "execution_count": 34,
     "metadata": {},
     "output_type": "execute_result"
    }
   ],
   "source": [
    "trainTR"
   ]
  },
  {
   "cell_type": "code",
   "execution_count": null,
   "id": "82bd44ba",
   "metadata": {},
   "outputs": [],
   "source": []
  }
 ],
 "metadata": {
  "kernelspec": {
   "display_name": "Python 3 (ipykernel)",
   "language": "python",
   "name": "python3"
  },
  "language_info": {
   "codemirror_mode": {
    "name": "ipython",
    "version": 3
   },
   "file_extension": ".py",
   "mimetype": "text/x-python",
   "name": "python",
   "nbconvert_exporter": "python",
   "pygments_lexer": "ipython3",
   "version": "3.9.6"
  }
 },
 "nbformat": 4,
 "nbformat_minor": 5
}
